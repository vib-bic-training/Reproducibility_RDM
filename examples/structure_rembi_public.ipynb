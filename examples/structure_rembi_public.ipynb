{
 "cells": [
  {
   "cell_type": "markdown",
   "metadata": {},
   "source": [
    "# Loading library and defining paths"
   ]
  },
  {
   "cell_type": "code",
   "execution_count": 1,
   "metadata": {},
   "outputs": [],
   "source": [
    "import sys\n",
    "sys.path.append(\"../\")"
   ]
  },
  {
   "cell_type": "code",
   "execution_count": 2,
   "metadata": {},
   "outputs": [],
   "source": [
    "# Importing libraries\n",
    "import json\n",
    "import openai\n",
    "import time\n",
    "import os\n",
    "from unstructured.partition.auto import partition_pdf\n",
    "import pandas as pd\n",
    "import time\n",
    "import random\n",
    "import pandas as pd"
   ]
  },
  {
   "cell_type": "code",
   "execution_count": 3,
   "metadata": {},
   "outputs": [
    {
     "data": {
      "text/plain": [
       "'c:\\\\GBW_MyDownloads\\\\chatgpt\\\\chatgpt_REMBI\\\\examples'"
      ]
     },
     "execution_count": 3,
     "metadata": {},
     "output_type": "execute_result"
    }
   ],
   "source": [
    "# Add your Openai key\n",
    "openai.api_key = \"\"\n",
    "os.getcwd()"
   ]
  },
  {
   "cell_type": "code",
   "execution_count": 11,
   "metadata": {},
   "outputs": [
    {
     "name": "stdout",
     "output_type": "stream",
     "text": [
      "            Manuscript  ELN ManGO Metadata All sources\n",
      "Title              NaN  NaN            NaN         NaN\n",
      "Authors            NaN  NaN            NaN         NaN\n",
      "Topic              NaN  NaN            NaN         NaN\n",
      "Methodology        NaN  NaN            NaN         NaN\n",
      "Repository         NaN  NaN            NaN         NaN\n"
     ]
    }
   ],
   "source": [
    "# Creation of an empty dataframe\n",
    "columns = [\"Manuscript\", \"ELN\", \"ManGO Metadata\", \"All sources\"]\n",
    "indexes = [\"Title\", \"Authors\", \"Topic\",\"Methodology\", \"Repository\"]\n",
    "df = pd.DataFrame(columns=columns, index=indexes)\n",
    "print(df)"
   ]
  },
  {
   "cell_type": "markdown",
   "metadata": {},
   "source": [
    "# Preprocessing files"
   ]
  },
  {
   "cell_type": "code",
   "execution_count": 13,
   "metadata": {},
   "outputs": [],
   "source": [
    "#Conversion of a pdf file to a text file\n",
    "main_pdf=r\"..\\input\\What we can learn from deep space communication for reproducible BioImage analysis-20.pdf\"\n",
    "elements = partition_pdf(filename=main_pdf, infer_table_structure=False)\n",
    "with open(r'..\\preprocessed_files\\main.txt',\"w\") as main_file:\n",
    "    for element in elements:\n",
    "        main_file.write(str(element))\n",
    "        main_file.write(\"\\n\")\n"
   ]
  },
  {
   "cell_type": "code",
   "execution_count": 18,
   "metadata": {},
   "outputs": [],
   "source": [
    "#Merging two metadata file in one json file\n",
    "json_merged=[]\n",
    "with open(r\"..\\input\\study_bia.json\", 'r') as file1:\n",
    "    data1 = json.load(file1)\n",
    "    json_merged.append(data1)\n",
    "# Read the content of the second JSON file\n",
    "with open(r'..\\input\\analysis.json', 'r') as file2:\n",
    "    data2 = json.load(file2)\n",
    "    json_merged.append(data2)\n",
    "\n",
    "\n",
    "# Write the merged data to a new JSON file\n",
    "with open(r'..\\preprocessed_files\\merged.json', 'w') as merged_file:\n",
    "    json.dump(json_merged, merged_file,indent=4)"
   ]
  },
  {
   "cell_type": "markdown",
   "metadata": {},
   "source": [
    "## Querying with CHATGPT 4"
   ]
  },
  {
   "cell_type": "code",
   "execution_count": 6,
   "metadata": {},
   "outputs": [],
   "source": [
    "# function to interact with chatgpt through the API\n",
    "def make_chat_request(query, prompt):\n",
    "    try:\n",
    "        response = openai.ChatCompletion.create(\n",
    "            model=\"gpt-4\",\n",
    "            messages=[\n",
    "                {\"role\": \"system\", \"content\": query},\n",
    "                {\"role\": \"user\", \"content\": prompt},\n",
    "            ],\n",
    "        )\n",
    "        return response.choices[0].message['content']\n",
    "    except openai.error.OpenAIError as e:\n",
    "        print(f\"An error occurred: {e}\")\n",
    "        return None\n"
   ]
  },
  {
   "cell_type": "code",
   "execution_count": 7,
   "metadata": {},
   "outputs": [],
   "source": [
    "# function to delay the interaction to avoid the token limit of chatgpt\n",
    "def exponential_backoff_retry(query, prompt, max_retries=10):\n",
    "    retry_count = 0\n",
    "    while retry_count < max_retries:\n",
    "        response = make_chat_request(query, prompt)\n",
    "        if response is not None:\n",
    "            return response\n",
    "        else:\n",
    "            retry_count += 1\n",
    "            wait_time = 2 ** retry_count  # Exponential backoff formula\n",
    "            wait_time += random.uniform(0, 1)  # Add some randomness\n",
    "            print(f\"Retrying in {wait_time} seconds...\")\n",
    "            time.sleep(wait_time)\n",
    "    \n",
    "    print(\"Max retries reached. Unable to get a response.\")\n",
    "    return None"
   ]
  },
  {
   "cell_type": "code",
   "execution_count": 56,
   "metadata": {},
   "outputs": [],
   "source": [
    "def parsing_response_chatgpt(response_string):\n",
    "    \"\"\" splitting response in a list and removing keyword before semi-colon\"\"\"\n",
    "    lines = response_string.split('\\n')\n",
    "    lines_cleaned=[]\n",
    "    for line in lines:\n",
    "        if not line:\n",
    "            continue\n",
    "        colon_index = line.find(\":\")\n",
    "        if colon_index != -1:\n",
    "            lines_cleaned.append(line[colon_index + 1:].strip())\n",
    "    return lines_cleaned"
   ]
  },
  {
   "cell_type": "code",
   "execution_count": 14,
   "metadata": {},
   "outputs": [
    {
     "name": "stdout",
     "output_type": "stream",
     "text": [
      "ChatGPT Response: Title: Proofreading Approach to Improve Reproducibility in BioImaging Metadata Using AI (Artificial Intelligence) Language Models\n",
      "\n",
      "Authors: Tatiana Woller, Christopher J. Cawthorne, Romain Raymond, Agnes Slootmaekers, Ingrid Barcena Roig, Alex Botzki, Sebastian Munck\n",
      "\n",
      "Main Topic: The paper discusses the challenge of maintaining reproducibility in BioImage data, similar to the challenges in deep space communications. It suggests the implementation of AI language model proofreading to improve error correction and consequently, the fidelity of the data.\n",
      "\n",
      "Methodology: The authors have created a workflow where the Large Language Model GPT-4 reads a lab notebook entry, a corresponding ManGO metadata file, and this publication to look for a list of keywords, and checks them for consistency across these metadata sources. Error correction is then performed by highlighting gaps and contradictions.\n",
      "\n",
      "GitHub Repository: https://github.com/vib-bic-training/Reproducibility_RDM.git\n"
     ]
    }
   ],
   "source": [
    "# querying the main file\n",
    "with open(r\"..\\preprocessed_files\\main.txt\") as file:\n",
    "    combined_content=file.read()\n",
    "question=\"Extract: title, authors, main topic, methodology and github repository\"\n",
    "response = exponential_backoff_retry(question, combined_content)\n",
    "if response:\n",
    "    print(f\"ChatGPT Response: {response}\")\n",
    "else:\n",
    "    print(\"Failed to get a response after multiple retries.\")\n",
    "df['Manuscript']= parsing_response_chatgpt(response)"
   ]
  },
  {
   "cell_type": "code",
   "execution_count": 17,
   "metadata": {},
   "outputs": [
    {
     "name": "stdout",
     "output_type": "stream",
     "text": [
      "ChatGPT Response: Title: What we can learn from deep space communication for reproducible BioImaging and data analysis\n",
      "\n",
      "Authors: Not mentioned in the extract provided.\n",
      "\n",
      "Main Topic: The project deals with reproducible BioImaging and data analysis, adopting techniques from deep space communication. It involves running scripts interactively with GPT-4 through an API.\n",
      "\n",
      "Methodology: The scripts for this project are executed using Python 3.10. Dependencies are listed in the requirements_sm.txt file. The main interaction with GPT-4 is done via an API for which an API key is required from OpenAI. The accepted input formats for the scripts are pdf, txt, and json files.\n",
      "\n",
      "Github repository: The Github repository for the scripts and config files is found at https://github.com/vib-bic-training/Reproducibility_RDM. The project is based on https://github.com/kbressem/gpt4-structured-reporting.\n"
     ]
    }
   ],
   "source": [
    "# querying the ELN/ readme file\n",
    "with open(r\"..\\input\\README.txt\") as file:\n",
    "   combined_content=file.read()\n",
    "question=\"Extract: title, authors, main topic, methodology and github repository\"\n",
    "response = exponential_backoff_retry(question, combined_content)\n",
    "if response:\n",
    "    print(f\"ChatGPT Response: {response}\")\n",
    "else:\n",
    "    print(\"Failed to get a response after multiple retries.\")\n",
    "df['ELN']= parsing_response_chatgpt(response)"
   ]
  },
  {
   "cell_type": "code",
   "execution_count": 19,
   "metadata": {},
   "outputs": [
    {
     "name": "stdout",
     "output_type": "stream",
     "text": [
      "ChatGPT Response: Title: What we can learn from deep space communication for reproducible BioImaging and data analysis \n",
      "\n",
      "Authors: Tatiana Woller, Christopher Cawthorne, Romain Raymond Agnes Slootmaekers, Ingrid Barcena Roig, Alex Botzki, Sebastian Munck\n",
      "\n",
      "Main Topic: The study discusses learning from deep space communication to improve the reproducibility of BioImaging and data analysis.\n",
      "\n",
      "Methodology: The research uses a Large Language Model (GPT-4) and follows the REMBI standard for their analyses.\n",
      "\n",
      "Github Repository: The code and data used for the study can be found at https://github.com/vib-bic-training/Reproducibility_RDM.git.\n"
     ]
    }
   ],
   "source": [
    "# querying the metadata file\n",
    "with open(r\"..\\preprocessed_files\\merged.json\") as json_file:\n",
    "    json_data=json.load(json_file)\n",
    "question=\"Extract: title, authors, main topic, methodology and github repository\"\n",
    "response = exponential_backoff_retry(question, json.dumps(json_data))\n",
    "if response:\n",
    "    print(f\"ChatGPT Response: {response}\")\n",
    "else:\n",
    "    print(\"Failed to get a response after multiple retries.\")\n",
    "df['ManGO Metadata']= parsing_response_chatgpt(response)"
   ]
  },
  {
   "cell_type": "code",
   "execution_count": 20,
   "metadata": {},
   "outputs": [
    {
     "data": {
      "text/html": [
       "<div>\n",
       "<style scoped>\n",
       "    .dataframe tbody tr th:only-of-type {\n",
       "        vertical-align: middle;\n",
       "    }\n",
       "\n",
       "    .dataframe tbody tr th {\n",
       "        vertical-align: top;\n",
       "    }\n",
       "\n",
       "    .dataframe thead th {\n",
       "        text-align: right;\n",
       "    }\n",
       "</style>\n",
       "<table border=\"1\" class=\"dataframe\">\n",
       "  <thead>\n",
       "    <tr style=\"text-align: right;\">\n",
       "      <th></th>\n",
       "      <th>Manuscript</th>\n",
       "      <th>ELN</th>\n",
       "      <th>ManGO Metadata</th>\n",
       "      <th>All sources</th>\n",
       "    </tr>\n",
       "  </thead>\n",
       "  <tbody>\n",
       "    <tr>\n",
       "      <th>Title</th>\n",
       "      <td>Proofreading Approach to Improve Reproducibili...</td>\n",
       "      <td>What we can learn from deep space communicatio...</td>\n",
       "      <td>What we can learn from deep space communicatio...</td>\n",
       "      <td>NaN</td>\n",
       "    </tr>\n",
       "    <tr>\n",
       "      <th>Authors</th>\n",
       "      <td>Tatiana Woller, Christopher J. Cawthorne, Roma...</td>\n",
       "      <td>Not mentioned in the extract provided.</td>\n",
       "      <td>Tatiana Woller, Christopher Cawthorne, Romain ...</td>\n",
       "      <td>NaN</td>\n",
       "    </tr>\n",
       "    <tr>\n",
       "      <th>Topic</th>\n",
       "      <td>The paper discusses the challenge of maintaini...</td>\n",
       "      <td>The project deals with reproducible BioImaging...</td>\n",
       "      <td>The study discusses learning from deep space c...</td>\n",
       "      <td>NaN</td>\n",
       "    </tr>\n",
       "    <tr>\n",
       "      <th>Methodology</th>\n",
       "      <td>The authors have created a workflow where the ...</td>\n",
       "      <td>The scripts for this project are executed usin...</td>\n",
       "      <td>The research uses a Large Language Model (GPT-...</td>\n",
       "      <td>NaN</td>\n",
       "    </tr>\n",
       "    <tr>\n",
       "      <th>Repository</th>\n",
       "      <td>https://github.com/vib-bic-training/Reproducib...</td>\n",
       "      <td>The Github repository for the scripts and conf...</td>\n",
       "      <td>The code and data used for the study can be fo...</td>\n",
       "      <td>NaN</td>\n",
       "    </tr>\n",
       "  </tbody>\n",
       "</table>\n",
       "</div>"
      ],
      "text/plain": [
       "                                                    Manuscript  \\\n",
       "Title        Proofreading Approach to Improve Reproducibili...   \n",
       "Authors      Tatiana Woller, Christopher J. Cawthorne, Roma...   \n",
       "Topic        The paper discusses the challenge of maintaini...   \n",
       "Methodology  The authors have created a workflow where the ...   \n",
       "Repository   https://github.com/vib-bic-training/Reproducib...   \n",
       "\n",
       "                                                           ELN  \\\n",
       "Title        What we can learn from deep space communicatio...   \n",
       "Authors                 Not mentioned in the extract provided.   \n",
       "Topic        The project deals with reproducible BioImaging...   \n",
       "Methodology  The scripts for this project are executed usin...   \n",
       "Repository   The Github repository for the scripts and conf...   \n",
       "\n",
       "                                                ManGO Metadata All sources  \n",
       "Title        What we can learn from deep space communicatio...         NaN  \n",
       "Authors      Tatiana Woller, Christopher Cawthorne, Romain ...         NaN  \n",
       "Topic        The study discusses learning from deep space c...         NaN  \n",
       "Methodology  The research uses a Large Language Model (GPT-...         NaN  \n",
       "Repository   The code and data used for the study can be fo...         NaN  "
      ]
     },
     "execution_count": 20,
     "metadata": {},
     "output_type": "execute_result"
    }
   ],
   "source": [
    "df"
   ]
  },
  {
   "cell_type": "code",
   "execution_count": 13,
   "metadata": {},
   "outputs": [
    {
     "name": "stdout",
     "output_type": "stream",
     "text": [
      "Title: \"What we can learn from deep space communication for reproducible BioImage analysis\"\n",
      "\n",
      "Authors: Tatiana Woller, Chris Cawthorne, Romain Raymond Agnes Slootmaekers, Ingrid Barcena Roig, Alex Botzki, Sebastian Munck\n",
      "\n",
      "Main Topic: The manuscript focuses on how principles learned from deep space communication could be implemented for creating reproducible BioImage analysis, essentially utilising AI language models for performing proofreading and enhancing error correction for bioimaging data.\n",
      "\n",
      "Methodology: The authors describe a proof of concept wherein a Large Language Model (GPT-4 in this case) is used to read and check the consistency in a lab notebook entry, a ManGO metadata file, and the paper itself. Once the required information is extracted, gaps and potential errors are identified and highlighted. \n",
      "\n",
      "GitHub Repository: https://github.com/vib-bic-training/Reproducibility_RDM.git\n"
     ]
    }
   ],
   "source": [
    "# querying the main text and the readme file\n",
    "file_paths = [r\"..\\preprocessed_files\\main.txt\", r\"..\\input\\README.txt\"]\n",
    "file_contents = []\n",
    "\n",
    "for file_path in file_paths:\n",
    "    with open(file_path, \"r\") as file:\n",
    "        file_contents.append(file.read())\n",
    "\n",
    "messages = [\n",
    "    {\"role\": \"system\", \"content\": \"You are a helpful assistant.\"},\n",
    "    {\"role\": \"user\", \"content\": \"Extract: title, authors, main topic, methodology and github repository\"},\n",
    "]\n",
    "\n",
    "for content in file_contents:\n",
    "    messages.append({\"role\": \"user\", \"content\": content})\n",
    "\n",
    "response = openai.ChatCompletion.create(\n",
    "    model=\"gpt-4\",\n",
    "    messages=messages,\n",
    ")\n",
    "\n",
    "assistant_reply = response['choices'][0]['message']['content']\n",
    "print(assistant_reply)"
   ]
  },
  {
   "cell_type": "code",
   "execution_count": 25,
   "metadata": {},
   "outputs": [
    {
     "name": "stdout",
     "output_type": "stream",
     "text": [
      "Title: What we can learn from deep space communication for reproducible BioImaging and data analysis\n",
      "\n",
      "Authors: Tatiana Woller, Christopher Cawthorne, Romain Raymond Agnes Slootmaekers, Ingrid Barcena Roig, Alex Botzki, Sebastian Munck\n",
      "\n",
      "Main Topic: This paper discusses the issues regarding reproducibility in BioImage and data analysis. It offers a solution using the concept of error correction protocols used in space communication. The authors propose the use of AI language model proofreading to digest redundant metadata entries, visualize the differences, and correct errors. This method aims to increase metadata consistency, and improve overall documentation for higher reproducibility and reusability.\n",
      "\n",
      "Methodology: The authors implemented a workflow, where the GPT-4 Language Model reads different metadata sources, including a lab notebook entry, the corresponding ManGO metadata file, and this publication. These sources are searched for specific keywords to see their consistency. Then, conflicts and discrepancies are highlighted, allowing for error correction and improvement of the fidelity of the annotation.\n",
      "\n",
      "GitHub Repository: [https://github.com/vib-bic-training/Reproducibility_RDM.git](https://github.com/vib-bic-training/Reproducibility_RDM.git)\n"
     ]
    }
   ],
   "source": [
    "#querying the main text, the readme file and the metadata file\n",
    "file_paths = [r\"..\\preprocessed_files\\main.txt\", r\"..\\input\\README.txt\", r\"..\\preprocessed_files\\merged.json\"]\n",
    "file_contents = []\n",
    "\n",
    "for file_path in file_paths:\n",
    "    if file_path.endswith(\".txt\"):\n",
    "        with open(file_path, \"r\") as file:\n",
    "            file_contents.append(file.read())\n",
    "    elif file_path.endswith(\".json\"):\n",
    "        with open(file_path, \"r\") as json_file:\n",
    "            file_contents.append(json.dumps(json.load(json_file)))\n",
    "messages = [\n",
    "    {\"role\": \"system\", \"content\": \"You are a helpful assistant.\"},\n",
    "    {\"role\": \"user\", \"content\": \"Extract: title, authors, main topic, methodology and github repository\"},\n",
    "]\n",
    "\n",
    "for content in file_contents:\n",
    "    messages.append({\"role\": \"user\", \"content\": content})\n",
    "\n",
    "response = openai.ChatCompletion.create(\n",
    "    model=\"gpt-4\",\n",
    "    messages=messages,\n",
    ")\n",
    "assistant_reply = response['choices'][0]['message']['content']\n",
    "print(assistant_reply)"
   ]
  },
  {
   "cell_type": "code",
   "execution_count": 57,
   "metadata": {},
   "outputs": [],
   "source": [
    "df['All sources']= parsing_response_chatgpt(assistant_reply)"
   ]
  },
  {
   "cell_type": "code",
   "execution_count": 58,
   "metadata": {},
   "outputs": [
    {
     "data": {
      "text/html": [
       "<div>\n",
       "<style scoped>\n",
       "    .dataframe tbody tr th:only-of-type {\n",
       "        vertical-align: middle;\n",
       "    }\n",
       "\n",
       "    .dataframe tbody tr th {\n",
       "        vertical-align: top;\n",
       "    }\n",
       "\n",
       "    .dataframe thead th {\n",
       "        text-align: right;\n",
       "    }\n",
       "</style>\n",
       "<table border=\"1\" class=\"dataframe\">\n",
       "  <thead>\n",
       "    <tr style=\"text-align: right;\">\n",
       "      <th></th>\n",
       "      <th>Manuscript</th>\n",
       "      <th>ELN</th>\n",
       "      <th>ManGO Metadata</th>\n",
       "      <th>All sources</th>\n",
       "    </tr>\n",
       "  </thead>\n",
       "  <tbody>\n",
       "    <tr>\n",
       "      <th>Title</th>\n",
       "      <td>Proofreading Approach to Improve Reproducibili...</td>\n",
       "      <td>What we can learn from deep space communicatio...</td>\n",
       "      <td>What we can learn from deep space communicatio...</td>\n",
       "      <td>What we can learn from deep space communicatio...</td>\n",
       "    </tr>\n",
       "    <tr>\n",
       "      <th>Authors</th>\n",
       "      <td>Tatiana Woller, Christopher J. Cawthorne, Roma...</td>\n",
       "      <td>Not mentioned in the extract provided.</td>\n",
       "      <td>Tatiana Woller, Christopher Cawthorne, Romain ...</td>\n",
       "      <td>Tatiana Woller, Christopher Cawthorne, Romain ...</td>\n",
       "    </tr>\n",
       "    <tr>\n",
       "      <th>Topic</th>\n",
       "      <td>The paper discusses the challenge of maintaini...</td>\n",
       "      <td>The project deals with reproducible BioImaging...</td>\n",
       "      <td>The study discusses learning from deep space c...</td>\n",
       "      <td>This paper discusses the issues regarding repr...</td>\n",
       "    </tr>\n",
       "    <tr>\n",
       "      <th>Methodology</th>\n",
       "      <td>The authors have created a workflow where the ...</td>\n",
       "      <td>The scripts for this project are executed usin...</td>\n",
       "      <td>The research uses a Large Language Model (GPT-...</td>\n",
       "      <td>The authors implemented a workflow, where the ...</td>\n",
       "    </tr>\n",
       "    <tr>\n",
       "      <th>Repository</th>\n",
       "      <td>https://github.com/vib-bic-training/Reproducib...</td>\n",
       "      <td>The Github repository for the scripts and conf...</td>\n",
       "      <td>The code and data used for the study can be fo...</td>\n",
       "      <td>[https://github.com/vib-bic-training/Reproduci...</td>\n",
       "    </tr>\n",
       "  </tbody>\n",
       "</table>\n",
       "</div>"
      ],
      "text/plain": [
       "                                                    Manuscript  \\\n",
       "Title        Proofreading Approach to Improve Reproducibili...   \n",
       "Authors      Tatiana Woller, Christopher J. Cawthorne, Roma...   \n",
       "Topic        The paper discusses the challenge of maintaini...   \n",
       "Methodology  The authors have created a workflow where the ...   \n",
       "Repository   https://github.com/vib-bic-training/Reproducib...   \n",
       "\n",
       "                                                           ELN  \\\n",
       "Title        What we can learn from deep space communicatio...   \n",
       "Authors                 Not mentioned in the extract provided.   \n",
       "Topic        The project deals with reproducible BioImaging...   \n",
       "Methodology  The scripts for this project are executed usin...   \n",
       "Repository   The Github repository for the scripts and conf...   \n",
       "\n",
       "                                                ManGO Metadata  \\\n",
       "Title        What we can learn from deep space communicatio...   \n",
       "Authors      Tatiana Woller, Christopher Cawthorne, Romain ...   \n",
       "Topic        The study discusses learning from deep space c...   \n",
       "Methodology  The research uses a Large Language Model (GPT-...   \n",
       "Repository   The code and data used for the study can be fo...   \n",
       "\n",
       "                                                   All sources  \n",
       "Title        What we can learn from deep space communicatio...  \n",
       "Authors      Tatiana Woller, Christopher Cawthorne, Romain ...  \n",
       "Topic        This paper discusses the issues regarding repr...  \n",
       "Methodology  The authors implemented a workflow, where the ...  \n",
       "Repository   [https://github.com/vib-bic-training/Reproduci...  "
      ]
     },
     "execution_count": 58,
     "metadata": {},
     "output_type": "execute_result"
    }
   ],
   "source": [
    "df"
   ]
  },
  {
   "cell_type": "code",
   "execution_count": 59,
   "metadata": {},
   "outputs": [],
   "source": [
    "transposed_df=df.transpose()"
   ]
  },
  {
   "cell_type": "code",
   "execution_count": 60,
   "metadata": {},
   "outputs": [],
   "source": [
    "transposed_df.to_csv(r\"../output/report_table.csv\")"
   ]
  },
  {
   "cell_type": "markdown",
   "metadata": {},
   "source": [
    "# Comparing the extracted information using Spacy"
   ]
  },
  {
   "cell_type": "code",
   "execution_count": 61,
   "metadata": {},
   "outputs": [],
   "source": [
    "import spacy\n",
    "from spacy.lang.en.stop_words import STOP_WORDS\n",
    "from string import punctuation\n",
    "from collections import Counter\n",
    "from heapq import nlargest\n",
    "import re\n",
    "from sklearn.feature_extraction.text import TfidfVectorizer\n",
    "from sklearn.metrics.pairwise import cosine_similarity"
   ]
  },
  {
   "cell_type": "code",
   "execution_count": 62,
   "metadata": {},
   "outputs": [],
   "source": [
    "nlp=spacy.load(\"en_core_web_lg\")"
   ]
  },
  {
   "cell_type": "code",
   "execution_count": 63,
   "metadata": {},
   "outputs": [],
   "source": [
    "output = pd.read_csv(r\"..\\output\\report_table.csv\")"
   ]
  },
  {
   "cell_type": "code",
   "execution_count": 64,
   "metadata": {},
   "outputs": [],
   "source": [
    "output.set_index(\"Unnamed: 0\",inplace=True)"
   ]
  },
  {
   "cell_type": "code",
   "execution_count": 65,
   "metadata": {},
   "outputs": [
    {
     "data": {
      "text/html": [
       "<div>\n",
       "<style scoped>\n",
       "    .dataframe tbody tr th:only-of-type {\n",
       "        vertical-align: middle;\n",
       "    }\n",
       "\n",
       "    .dataframe tbody tr th {\n",
       "        vertical-align: top;\n",
       "    }\n",
       "\n",
       "    .dataframe thead th {\n",
       "        text-align: right;\n",
       "    }\n",
       "</style>\n",
       "<table border=\"1\" class=\"dataframe\">\n",
       "  <thead>\n",
       "    <tr style=\"text-align: right;\">\n",
       "      <th></th>\n",
       "      <th>Title</th>\n",
       "      <th>Authors</th>\n",
       "      <th>Topic</th>\n",
       "      <th>Methodology</th>\n",
       "      <th>Repository</th>\n",
       "    </tr>\n",
       "    <tr>\n",
       "      <th>Unnamed: 0</th>\n",
       "      <th></th>\n",
       "      <th></th>\n",
       "      <th></th>\n",
       "      <th></th>\n",
       "      <th></th>\n",
       "    </tr>\n",
       "  </thead>\n",
       "  <tbody>\n",
       "    <tr>\n",
       "      <th>Manuscript</th>\n",
       "      <td>Proofreading Approach to Improve Reproducibili...</td>\n",
       "      <td>Tatiana Woller, Christopher J. Cawthorne, Roma...</td>\n",
       "      <td>The paper discusses the challenge of maintaini...</td>\n",
       "      <td>The authors have created a workflow where the ...</td>\n",
       "      <td>https://github.com/vib-bic-training/Reproducib...</td>\n",
       "    </tr>\n",
       "    <tr>\n",
       "      <th>ELN</th>\n",
       "      <td>What we can learn from deep space communicatio...</td>\n",
       "      <td>Not mentioned in the extract provided.</td>\n",
       "      <td>The project deals with reproducible BioImaging...</td>\n",
       "      <td>The scripts for this project are executed usin...</td>\n",
       "      <td>The Github repository for the scripts and conf...</td>\n",
       "    </tr>\n",
       "    <tr>\n",
       "      <th>ManGO Metadata</th>\n",
       "      <td>What we can learn from deep space communicatio...</td>\n",
       "      <td>Tatiana Woller, Christopher Cawthorne, Romain ...</td>\n",
       "      <td>The study discusses learning from deep space c...</td>\n",
       "      <td>The research uses a Large Language Model (GPT-...</td>\n",
       "      <td>The code and data used for the study can be fo...</td>\n",
       "    </tr>\n",
       "    <tr>\n",
       "      <th>All sources</th>\n",
       "      <td>What we can learn from deep space communicatio...</td>\n",
       "      <td>Tatiana Woller, Christopher Cawthorne, Romain ...</td>\n",
       "      <td>This paper discusses the issues regarding repr...</td>\n",
       "      <td>The authors implemented a workflow, where the ...</td>\n",
       "      <td>[https://github.com/vib-bic-training/Reproduci...</td>\n",
       "    </tr>\n",
       "  </tbody>\n",
       "</table>\n",
       "</div>"
      ],
      "text/plain": [
       "                                                            Title  \\\n",
       "Unnamed: 0                                                          \n",
       "Manuscript      Proofreading Approach to Improve Reproducibili...   \n",
       "ELN             What we can learn from deep space communicatio...   \n",
       "ManGO Metadata  What we can learn from deep space communicatio...   \n",
       "All sources     What we can learn from deep space communicatio...   \n",
       "\n",
       "                                                          Authors  \\\n",
       "Unnamed: 0                                                          \n",
       "Manuscript      Tatiana Woller, Christopher J. Cawthorne, Roma...   \n",
       "ELN                        Not mentioned in the extract provided.   \n",
       "ManGO Metadata  Tatiana Woller, Christopher Cawthorne, Romain ...   \n",
       "All sources     Tatiana Woller, Christopher Cawthorne, Romain ...   \n",
       "\n",
       "                                                            Topic  \\\n",
       "Unnamed: 0                                                          \n",
       "Manuscript      The paper discusses the challenge of maintaini...   \n",
       "ELN             The project deals with reproducible BioImaging...   \n",
       "ManGO Metadata  The study discusses learning from deep space c...   \n",
       "All sources     This paper discusses the issues regarding repr...   \n",
       "\n",
       "                                                      Methodology  \\\n",
       "Unnamed: 0                                                          \n",
       "Manuscript      The authors have created a workflow where the ...   \n",
       "ELN             The scripts for this project are executed usin...   \n",
       "ManGO Metadata  The research uses a Large Language Model (GPT-...   \n",
       "All sources     The authors implemented a workflow, where the ...   \n",
       "\n",
       "                                                       Repository  \n",
       "Unnamed: 0                                                         \n",
       "Manuscript      https://github.com/vib-bic-training/Reproducib...  \n",
       "ELN             The Github repository for the scripts and conf...  \n",
       "ManGO Metadata  The code and data used for the study can be fo...  \n",
       "All sources     [https://github.com/vib-bic-training/Reproduci...  "
      ]
     },
     "execution_count": 65,
     "metadata": {},
     "output_type": "execute_result"
    }
   ],
   "source": [
    "output"
   ]
  },
  {
   "cell_type": "code",
   "execution_count": 66,
   "metadata": {},
   "outputs": [],
   "source": [
    "def calculate_similarity(text1: str, text2:str):\n",
    "    \"\"\" To compute the cosine similarity between two strings\"\"\"\n",
    "    doc1 = nlp(text1)\n",
    "    doc2 = nlp(text2)\n",
    "    return doc1.similarity(doc2)"
   ]
  },
  {
   "cell_type": "code",
   "execution_count": 67,
   "metadata": {},
   "outputs": [],
   "source": [
    "def df_similarity_score( dataframe_out,keyw :str):\n",
    "    \"\"\" Returns a dataframe with cosine similarity\"\"\"\n",
    "    dico=dict()\n",
    "    for i in range(len(dataframe_out[keyw])):\n",
    "        for j in range(i + 1, len(dataframe_out[keyw])):\n",
    "            text1 =  dataframe_out.iloc[i, dataframe_out.columns.get_loc(keyw)]  \n",
    "            text2 = dataframe_out.iloc[j, dataframe_out.columns.get_loc(keyw)]  \n",
    "            key = lambda i, j: str(dataframe_out.iloc[i, 0]) + \" vs \" + str(dataframe_out.iloc[j, 0])\n",
    "            dico[key]=calculate_similarity(text1, text2)\n",
    "    test=pd.DataFrame.from_dict(dico,orient='index', columns=[keyw])\n",
    "    new_index = [\"Manuscript  vs  ELN\", \"Manuscript  vs  ManGO Metadata\", \"Manuscript  vs  All sources\", \"ELN  vs  ManGO Metadata\",\"ELN  vs  All sources\", \"ManGO Metadata  vs  All sources\"]\n",
    "    test.index=new_index\n",
    "    return test"
   ]
  },
  {
   "cell_type": "code",
   "execution_count": 68,
   "metadata": {},
   "outputs": [],
   "source": [
    "df_title=df_similarity_score(output, \"Title\")\n",
    "df_authors=df_similarity_score(output, \"Authors\")\n",
    "df_topic=df_similarity_score(output, \"Topic\")\n",
    "df_method=df_similarity_score(output, \"Methodology\")"
   ]
  },
  {
   "cell_type": "code",
   "execution_count": 69,
   "metadata": {},
   "outputs": [],
   "source": [
    "def find_url(URL):\n",
    "  \"\"\" To extract the url using regular expression\"\"\"\n",
    "  test=set()\n",
    "  url = re.findall(r\"https?://\\S+|www\\.\\S+\",URL) \n",
    "  return url"
   ]
  },
  {
   "cell_type": "code",
   "execution_count": 75,
   "metadata": {},
   "outputs": [],
   "source": [
    "def df_similarity_score_url( dataframe_out,keyw :str):\n",
    "    \"\"\" Save the similarity score for the repository keyword\"\"\"\n",
    "    index=[\"Manuscript  vs  ELN\", \"Manuscript  vs  ManGO Metadata\", \"Manuscript  vs  All sources\", \"ELN  vs  ManGO Metadata\",\"ELN  vs  All sources\", \"ManGO Metadata  vs  All sources\"]\n",
    "    values=[]\n",
    "    for i in range(len(dataframe_out[keyw])):\n",
    "        for j in range(i + 1, len(dataframe_out[keyw])):\n",
    "            text1 = find_url(dataframe_out.iloc[i, dataframe_out.columns.get_loc(keyw)] )\n",
    "            text2 = find_url(dataframe_out.iloc[j, dataframe_out.columns.get_loc(keyw)] )\n",
    "            tfidf_vectorizer = TfidfVectorizer()\n",
    "\n",
    "        # Fit and transform the URLs to create TF-IDF vectors\n",
    "            if len(text1)>1:\n",
    "                text1=text1[0]\n",
    "            elif len(text2)>1:\n",
    "                text2=text2[0]\n",
    "            elif len(text1)==1 and len(text2)==1:\n",
    "                text1=str(text1)\n",
    "                text2=str(text2)\n",
    "            tfidf_matrix = tfidf_vectorizer.fit_transform([str(text1), str(text2)])\n",
    "        # Calculate the cosine similarity between the TF-IDF vectors\n",
    "            cosine_sim = cosine_similarity(tfidf_matrix[0], tfidf_matrix[1])\n",
    "        # The result is a similarity matrix, get the cosine similarity value\n",
    "            key= str(dataframe_out.iloc[i,0]) + \" vs \" + str(dataframe_out.iloc[j,0])\n",
    "            values.append(cosine_sim[0][0])\n",
    "    test=pd.DataFrame({'Repository': values}, index=index)\n",
    "    return test"
   ]
  },
  {
   "cell_type": "code",
   "execution_count": 76,
   "metadata": {},
   "outputs": [],
   "source": [
    "df_repo=df_similarity_score_url(output, \"Repository\")"
   ]
  },
  {
   "cell_type": "code",
   "execution_count": 77,
   "metadata": {},
   "outputs": [],
   "source": [
    "df_output=pd.concat([df_title,df_authors,df_topic,df_method,df_repo],axis=1)"
   ]
  },
  {
   "cell_type": "code",
   "execution_count": 78,
   "metadata": {},
   "outputs": [
    {
     "data": {
      "image/png": "[encoded data removed]",
      "text/plain": [
       "<Figure size 640x480 with 2 Axes>"
      ]
     },
     "metadata": {},
     "output_type": "display_data"
    }
   ],
   "source": [
    "import seaborn as sns\n",
    "import matplotlib.pyplot as plt\n",
    "# Visualization of the similarity score as a heatmap\n",
    "label=[\"Manuscript  vs  ELN\", \"Manuscript  vs  ManGO Metadata\", \"Manuscript  vs  All sources\", \"ELN  vs  ManGO Metadata\",\"ELN  vs  All sources\", \"ManGO Metadata  vs  All sources\"]\n",
    "label2=[\"Title\",\"Authors\",\"Topic\",\"Methodology\", \"Repository\"]\n",
    "sns.set()\n",
    "sns.heatmap(df_output, annot=True, fmt=\".2f\", cmap=\"viridis\", xticklabels=label2, yticklabels=label)\n",
    "plt.title(\"Similarity \")\n",
    "plt.show()"
   ]
  }
 ],
 "metadata": {
  "kernelspec": {
   "display_name": "Python 3",
   "language": "python",
   "name": "python3"
  },
  "language_info": {
   "codemirror_mode": {
    "name": "ipython",
    "version": 3
   },
   "file_extension": ".py",
   "mimetype": "text/x-python",
   "name": "python",
   "nbconvert_exporter": "python",
   "pygments_lexer": "ipython3",
   "version": "3.9.7"
  },
  "orig_nbformat": 4
 },
 "nbformat": 4,
 "nbformat_minor": 2
}
